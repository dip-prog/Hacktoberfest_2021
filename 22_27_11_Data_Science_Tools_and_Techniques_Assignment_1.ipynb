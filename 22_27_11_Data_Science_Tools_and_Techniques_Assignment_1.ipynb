{
  "nbformat": 4,
  "nbformat_minor": 0,
  "metadata": {
    "colab": {
      "provenance": [],
      "authorship_tag": "ABX9TyMZ65FUAwEn0mG2f/19zasY",
      "include_colab_link": true
    },
    "kernelspec": {
      "name": "python3",
      "display_name": "Python 3"
    },
    "language_info": {
      "name": "python"
    }
  },
  "cells": [
    {
      "cell_type": "markdown",
      "metadata": {
        "id": "view-in-github",
        "colab_type": "text"
      },
      "source": [
        "<a href=\"https://colab.research.google.com/github/dip-prog/Hacktoberfest_2021/blob/main/22_27_11_Data_Science_Tools_and_Techniques_Assignment_1.ipynb\" target=\"_parent\"><img src=\"https://colab.research.google.com/assets/colab-badge.svg\" alt=\"Open In Colab\"/></a>"
      ]
    },
    {
      "cell_type": "code",
      "execution_count": null,
      "metadata": {
        "id": "sOmjVRy7uzgJ"
      },
      "outputs": [],
      "source": [
        "#Question 1\n",
        "n = int(input())\n",
        "a = list(map(int, input().split()))\n",
        "\n",
        "# reverse the array a\n",
        "a_rev = a[::-1]\n",
        "\n",
        "# multiply the corresponding elements of a and a_rev\n",
        "result = [a[i]*a_rev[i] for i in range(n)]\n",
        "\n",
        "# print the result separated by a space\n",
        "print(*result)"
      ]
    },
    {
      "cell_type": "code",
      "source": [
        "#Question 2\n",
        "# Read the list of numbers from input\n",
        "lst = list(map(int, input().split()))\n",
        "\n",
        "# Find the maximum and minimum numbers in the list\n",
        "max1 = max(lst)\n",
        "min1 = min(lst)\n",
        "\n",
        "# Remove the maximum and minimum numbers from the list\n",
        "lst.remove(max1)\n",
        "lst.remove(min1)\n",
        "\n",
        "# Find the second maximum and second minimum numbers in the modified list\n",
        "max2 = max(lst)\n",
        "min2 = min(lst)\n",
        "\n",
        "# Print the second maximum and second minimum numbers\n",
        "print(max2, min2)"
      ],
      "metadata": {
        "id": "d31bsfjqu_zt"
      },
      "execution_count": null,
      "outputs": []
    },
    {
      "cell_type": "code",
      "source": [
        "#question 3\n",
        "# Read the list of numbers from input\n",
        "lst = list(map(int, input().split()))\n",
        "\n",
        "# Initialize an empty list to store the non-multiples of 5\n",
        "result = []\n",
        "\n",
        "# Iterate over the list and check if each number is not a multiple of 5\n",
        "for num in lst:\n",
        "    if num % 5 != 0:\n",
        "        result.append(num)\n",
        "\n",
        "# Print the non-multiples of 5 separated by a space\n",
        "print(*result)"
      ],
      "metadata": {
        "id": "ZiC8j1YovG4m"
      },
      "execution_count": null,
      "outputs": []
    },
    {
      "cell_type": "code",
      "source": [
        "#Question 4\n",
        "# Read the number A from input\n",
        "A = input()\n",
        "\n",
        "# Count the number of 0's and 1's in the number\n",
        "count_0 = A.count('0')\n",
        "count_1 = A.count('1')\n",
        "\n",
        "# Check if it is possible to make all digits same by flipping one digit\n",
        "if count_0 == 1 or count_1 == 1:\n",
        "    print('YES')\n",
        "elif count_0 == 0 and count_1 == 0:\n",
        "    print('NO')\n",
        "else:\n",
        "    print('NO')"
      ],
      "metadata": {
        "id": "dQqMiuBMvS7O"
      },
      "execution_count": null,
      "outputs": []
    },
    {
      "cell_type": "code",
      "source": [
        "#Question no 5\n",
        "# Read the input number\n",
        "n = int(input())\n",
        "\n",
        "# Initialize the factorial to 1\n",
        "factorial = 1\n",
        "\n",
        "# Calculate the factorial using a loop\n",
        "for i in range(1, n+1):\n",
        "    factorial *= i\n",
        "\n",
        "# Print the factorial\n",
        "print(factorial)"
      ],
      "metadata": {
        "id": "ZLM5wolHvWhl"
      },
      "execution_count": null,
      "outputs": []
    },
    {
      "cell_type": "code",
      "source": [
        "#Question no 6\n",
        "# Read the input values of m and n\n",
        "m, n = map(int, input().split(\",\"))\n",
        "\n",
        "# Define a function to check if a number has all even digits\n",
        "def all_even_digits(num):\n",
        "    for digit in str(num):\n",
        "        if int(digit) % 2 != 0:\n",
        "            return False\n",
        "    return True\n",
        "\n",
        "# Initialize an empty list to store the even-digit numbers\n",
        "even_digit_numbers = []\n",
        "\n",
        "# Loop through all numbers between m and n (both inclusive)\n",
        "for num in range(m, n+1):\n",
        "    # Check if the number has all even digits\n",
        "    if all_even_digits(num):\n",
        "        even_digit_numbers.append(str(num))\n",
        "\n",
        "# Print the even-digit numbers separated by a comma\n",
        "print(\",\".join(even_digit_numbers))"
      ],
      "metadata": {
        "id": "PTqwqs4rvcvh"
      },
      "execution_count": null,
      "outputs": []
    }
  ]
}